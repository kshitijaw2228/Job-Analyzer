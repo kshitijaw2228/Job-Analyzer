{
 "cells": [
  {
   "cell_type": "code",
   "execution_count": 44,
   "metadata": {},
   "outputs": [],
   "source": [
    "import pandas as pd\n",
    "import seaborn as sns"
   ]
  },
  {
   "cell_type": "code",
   "execution_count": 45,
   "metadata": {},
   "outputs": [],
   "source": [
    "data = pd.read_csv('naukri.csv')"
   ]
  },
  {
   "cell_type": "markdown",
   "metadata": {},
   "source": [
    "## Find the Companies which has Highest Openings for Job"
   ]
  },
  {
   "cell_type": "code",
   "execution_count": 46,
   "metadata": {},
   "outputs": [
    {
     "data": {
      "text/html": [
       "<div>\n",
       "<style scoped>\n",
       "    .dataframe tbody tr th:only-of-type {\n",
       "        vertical-align: middle;\n",
       "    }\n",
       "\n",
       "    .dataframe tbody tr th {\n",
       "        vertical-align: top;\n",
       "    }\n",
       "\n",
       "    .dataframe thead th {\n",
       "        text-align: right;\n",
       "    }\n",
       "</style>\n",
       "<table border=\"1\" class=\"dataframe\">\n",
       "  <thead>\n",
       "    <tr style=\"text-align: right;\">\n",
       "      <th></th>\n",
       "      <th>company</th>\n",
       "      <th>Industry</th>\n",
       "      <th>numberofpositions</th>\n",
       "    </tr>\n",
       "  </thead>\n",
       "  <tbody>\n",
       "    <tr>\n",
       "      <th>20434</th>\n",
       "      <td>HCL Technologies Limited</td>\n",
       "      <td>IT-Software</td>\n",
       "      <td>2000</td>\n",
       "    </tr>\n",
       "    <tr>\n",
       "      <th>18173</th>\n",
       "      <td>Find Live Info Pvt Ltd</td>\n",
       "      <td>Fresher</td>\n",
       "      <td>1200</td>\n",
       "    </tr>\n",
       "    <tr>\n",
       "      <th>18182</th>\n",
       "      <td>Find Live Info Pvt Ltd</td>\n",
       "      <td>Advertising</td>\n",
       "      <td>1200</td>\n",
       "    </tr>\n",
       "    <tr>\n",
       "      <th>2175</th>\n",
       "      <td>YOGAM BPO</td>\n",
       "      <td>Medical</td>\n",
       "      <td>1200</td>\n",
       "    </tr>\n",
       "    <tr>\n",
       "      <th>2491</th>\n",
       "      <td>Yogam BPO</td>\n",
       "      <td>Pharma</td>\n",
       "      <td>1200</td>\n",
       "    </tr>\n",
       "  </tbody>\n",
       "</table>\n",
       "</div>"
      ],
      "text/plain": [
       "                        company     Industry  numberofpositions\n",
       "20434  HCL Technologies Limited  IT-Software               2000\n",
       "18173    Find Live Info Pvt Ltd      Fresher               1200\n",
       "18182    Find Live Info Pvt Ltd  Advertising               1200\n",
       "2175                  YOGAM BPO      Medical               1200\n",
       "2491                  Yogam BPO       Pharma               1200"
      ]
     },
     "execution_count": 46,
     "metadata": {},
     "output_type": "execute_result"
    }
   ],
   "source": [
    "data['industry'] = data['industry'].fillna(data['industry'].mode()[0])\n",
    "data['Industry'] = data['industry'].str.split(' / ')\n",
    "data['Industry'] = data['Industry'].apply(lambda x: x[0])\n",
    "\n",
    "data['numberofpositions'] = data['numberofpositions'].fillna(1)\n",
    "data['numberofpositions'] = data['numberofpositions'].astype('int')\n",
    "\n",
    "data.loc[data.groupby(data['Industry'])['numberofpositions'].idxmax()][['company',\n",
    "                                                                       'Industry',\n",
    "                                    'numberofpositions']].sort_values(by = 'numberofpositions',\n",
    "                                                                      ascending = False).head(5)"
   ]
  },
  {
   "cell_type": "markdown",
   "metadata": {},
   "source": [
    "## Find the Company with Highest number of Sales Job"
   ]
  },
  {
   "cell_type": "code",
   "execution_count": 47,
   "metadata": {},
   "outputs": [
    {
     "data": {
      "text/html": [
       "<style  type=\"text/css\" >\n",
       "    #T_b272f2e4_0c71_11eb_8716_023239005202row0_col2 {\n",
       "            background-color:  #ffc77f;\n",
       "            color:  #000000;\n",
       "        }    #T_b272f2e4_0c71_11eb_8716_023239005202row1_col2 {\n",
       "            background-color:  #e18e5b;\n",
       "            color:  #000000;\n",
       "        }    #T_b272f2e4_0c71_11eb_8716_023239005202row2_col2 {\n",
       "            background-color:  #b47249;\n",
       "            color:  #000000;\n",
       "        }    #T_b272f2e4_0c71_11eb_8716_023239005202row3_col2 {\n",
       "            background-color:  #000000;\n",
       "            color:  #f1f1f1;\n",
       "        }    #T_b272f2e4_0c71_11eb_8716_023239005202row4_col2 {\n",
       "            background-color:  #000000;\n",
       "            color:  #f1f1f1;\n",
       "        }</style><table id=\"T_b272f2e4_0c71_11eb_8716_023239005202\" ><thead>    <tr>        <th class=\"blank level0\" ></th>        <th class=\"col_heading level0 col0\" >company</th>        <th class=\"col_heading level0 col1\" >Skills</th>        <th class=\"col_heading level0 col2\" >numberofpositions</th>    </tr></thead><tbody>\n",
       "                <tr>\n",
       "                        <th id=\"T_b272f2e4_0c71_11eb_8716_023239005202level0_row0\" class=\"row_heading level0 row0\" >18182</th>\n",
       "                        <td id=\"T_b272f2e4_0c71_11eb_8716_023239005202row0_col0\" class=\"data row0 col0\" >Find Live Info Pvt Ltd</td>\n",
       "                        <td id=\"T_b272f2e4_0c71_11eb_8716_023239005202row0_col1\" class=\"data row0 col1\" >Sales</td>\n",
       "                        <td id=\"T_b272f2e4_0c71_11eb_8716_023239005202row0_col2\" class=\"data row0 col2\" >1200</td>\n",
       "            </tr>\n",
       "            <tr>\n",
       "                        <th id=\"T_b272f2e4_0c71_11eb_8716_023239005202level0_row1\" class=\"row_heading level0 row1\" >21135</th>\n",
       "                        <td id=\"T_b272f2e4_0c71_11eb_8716_023239005202row1_col0\" class=\"data row1 col0\" >United Capital Club</td>\n",
       "                        <td id=\"T_b272f2e4_0c71_11eb_8716_023239005202row1_col1\" class=\"data row1 col1\" >Sales</td>\n",
       "                        <td id=\"T_b272f2e4_0c71_11eb_8716_023239005202row1_col2\" class=\"data row1 col2\" >1000</td>\n",
       "            </tr>\n",
       "            <tr>\n",
       "                        <th id=\"T_b272f2e4_0c71_11eb_8716_023239005202level0_row2\" class=\"row_heading level0 row2\" >20932</th>\n",
       "                        <td id=\"T_b272f2e4_0c71_11eb_8716_023239005202row2_col0\" class=\"data row2 col0\" >Aspirtek Technologies Pvt. Ltd.</td>\n",
       "                        <td id=\"T_b272f2e4_0c71_11eb_8716_023239005202row2_col1\" class=\"data row2 col1\" >Sales</td>\n",
       "                        <td id=\"T_b272f2e4_0c71_11eb_8716_023239005202row2_col2\" class=\"data row2 col2\" >900</td>\n",
       "            </tr>\n",
       "            <tr>\n",
       "                        <th id=\"T_b272f2e4_0c71_11eb_8716_023239005202level0_row3\" class=\"row_heading level0 row3\" >21345</th>\n",
       "                        <td id=\"T_b272f2e4_0c71_11eb_8716_023239005202row3_col0\" class=\"data row3 col0\" >Aspirtek Technologies Pvt. Ltd.</td>\n",
       "                        <td id=\"T_b272f2e4_0c71_11eb_8716_023239005202row3_col1\" class=\"data row3 col1\" >Sales</td>\n",
       "                        <td id=\"T_b272f2e4_0c71_11eb_8716_023239005202row3_col2\" class=\"data row3 col2\" >500</td>\n",
       "            </tr>\n",
       "            <tr>\n",
       "                        <th id=\"T_b272f2e4_0c71_11eb_8716_023239005202level0_row4\" class=\"row_heading level0 row4\" >20876</th>\n",
       "                        <td id=\"T_b272f2e4_0c71_11eb_8716_023239005202row4_col0\" class=\"data row4 col0\" >Sanskriti Consultancy hiring for Sales Manager/ Sr Sales Manager/ Agency Sales Manager- Life Insurance- Pan India</td>\n",
       "                        <td id=\"T_b272f2e4_0c71_11eb_8716_023239005202row4_col1\" class=\"data row4 col1\" >Sales</td>\n",
       "                        <td id=\"T_b272f2e4_0c71_11eb_8716_023239005202row4_col2\" class=\"data row4 col2\" >500</td>\n",
       "            </tr>\n",
       "    </tbody></table>"
      ],
      "text/plain": [
       "<pandas.io.formats.style.Styler at 0x20140642c18>"
      ]
     },
     "execution_count": 47,
     "metadata": {},
     "output_type": "execute_result"
    }
   ],
   "source": [
    "data['skills'] = data['skills'].fillna(data['skills'].mode()[0])\n",
    "data['Skills'] = data['skills'].str.split(\" - \")\n",
    "data['Skills'] = data['Skills'].apply(lambda x: x[1] if len(x) > 1 else x[0])\n",
    "data[(data['Skills'] == 'Sales')][['company','Skills','numberofpositions']].sort_values(by = 'numberofpositions',\n",
    "                                                ascending = False).head(5).style.background_gradient(cmap = 'copper')"
   ]
  },
  {
   "cell_type": "markdown",
   "metadata": {},
   "source": [
    "## Compare the No. of Openings using Time Series"
   ]
  },
  {
   "cell_type": "code",
   "execution_count": 48,
   "metadata": {},
   "outputs": [
    {
     "data": {
      "text/html": [
       "<div>\n",
       "<style scoped>\n",
       "    .dataframe tbody tr th:only-of-type {\n",
       "        vertical-align: middle;\n",
       "    }\n",
       "\n",
       "    .dataframe tbody tr th {\n",
       "        vertical-align: top;\n",
       "    }\n",
       "\n",
       "    .dataframe thead th {\n",
       "        text-align: right;\n",
       "    }\n",
       "</style>\n",
       "<table border=\"1\" class=\"dataframe\">\n",
       "  <thead>\n",
       "    <tr style=\"text-align: right;\">\n",
       "      <th></th>\n",
       "      <th>numberofpositions</th>\n",
       "    </tr>\n",
       "    <tr>\n",
       "      <th>post-year</th>\n",
       "      <th></th>\n",
       "    </tr>\n",
       "  </thead>\n",
       "  <tbody>\n",
       "    <tr>\n",
       "      <th>2016</th>\n",
       "      <td>15697</td>\n",
       "    </tr>\n",
       "    <tr>\n",
       "      <th>2017</th>\n",
       "      <td>1583</td>\n",
       "    </tr>\n",
       "    <tr>\n",
       "      <th>2015</th>\n",
       "      <td>3</td>\n",
       "    </tr>\n",
       "  </tbody>\n",
       "</table>\n",
       "</div>"
      ],
      "text/plain": [
       "           numberofpositions\n",
       "post-year                   \n",
       "2016                   15697\n",
       "2017                    1583\n",
       "2015                       3"
      ]
     },
     "execution_count": 48,
     "metadata": {},
     "output_type": "execute_result"
    }
   ],
   "source": [
    "data = data.dropna()\n",
    "data['postdate'] = data['postdate'].str.split(\" \")\n",
    "data['postdate'] = data['postdate'].apply(lambda x: x[0])\n",
    "data['postdate'] = pd.to_datetime(data['postdate'], errors='coerce')\n",
    "\n",
    "data['post-year'] = data['postdate'].dt.year\n",
    "\n",
    "data[['post-year','numberofpositions']].groupby(['post-year']).agg('sum').sort_values(by = 'numberofpositions',\n",
    "                                                  ascending = False)"
   ]
  },
  {
   "cell_type": "markdown",
   "metadata": {},
   "source": [
    "## Compare Job Openings for 2016 Monthly wise"
   ]
  },
  {
   "cell_type": "code",
   "execution_count": 57,
   "metadata": {},
   "outputs": [
    {
     "data": {
      "text/html": [
       "<div>\n",
       "<style scoped>\n",
       "    .dataframe tbody tr th:only-of-type {\n",
       "        vertical-align: middle;\n",
       "    }\n",
       "\n",
       "    .dataframe tbody tr th {\n",
       "        vertical-align: top;\n",
       "    }\n",
       "\n",
       "    .dataframe thead th {\n",
       "        text-align: right;\n",
       "    }\n",
       "</style>\n",
       "<table border=\"1\" class=\"dataframe\">\n",
       "  <thead>\n",
       "    <tr style=\"text-align: right;\">\n",
       "      <th></th>\n",
       "      <th>numberofpositions</th>\n",
       "    </tr>\n",
       "    <tr>\n",
       "      <th>Month</th>\n",
       "      <th></th>\n",
       "    </tr>\n",
       "  </thead>\n",
       "  <tbody>\n",
       "    <tr>\n",
       "      <th>1</th>\n",
       "      <td>7</td>\n",
       "    </tr>\n",
       "    <tr>\n",
       "      <th>2</th>\n",
       "      <td>3</td>\n",
       "    </tr>\n",
       "    <tr>\n",
       "      <th>3</th>\n",
       "      <td>2</td>\n",
       "    </tr>\n",
       "    <tr>\n",
       "      <th>6</th>\n",
       "      <td>14</td>\n",
       "    </tr>\n",
       "    <tr>\n",
       "      <th>10</th>\n",
       "      <td>529</td>\n",
       "    </tr>\n",
       "    <tr>\n",
       "      <th>11</th>\n",
       "      <td>827</td>\n",
       "    </tr>\n",
       "    <tr>\n",
       "      <th>12</th>\n",
       "      <td>14315</td>\n",
       "    </tr>\n",
       "  </tbody>\n",
       "</table>\n",
       "</div>"
      ],
      "text/plain": [
       "       numberofpositions\n",
       "Month                   \n",
       "1                      7\n",
       "2                      3\n",
       "3                      2\n",
       "6                     14\n",
       "10                   529\n",
       "11                   827\n",
       "12                 14315"
      ]
     },
     "execution_count": 57,
     "metadata": {},
     "output_type": "execute_result"
    }
   ],
   "source": [
    "import warnings\n",
    "warnings.filterwarnings('ignore')\n",
    "\n",
    "data['post-year'] = data['post-year'].astype('str')\n",
    "x = data[data['post-year'] == '2016']\n",
    "x['postdate'] = pd.to_datetime(x['postdate'])\n",
    "x['Month'] = x['postdate'].dt.month\n",
    "\n",
    "x[['Month','numberofpositions']].groupby(['Month']).agg('sum')"
   ]
  }
 ],
 "metadata": {
  "kernelspec": {
   "display_name": "Python 3",
   "language": "python",
   "name": "python3"
  },
  "language_info": {
   "codemirror_mode": {
    "name": "ipython",
    "version": 3
   },
   "file_extension": ".py",
   "mimetype": "text/x-python",
   "name": "python",
   "nbconvert_exporter": "python",
   "pygments_lexer": "ipython3",
   "version": "3.8.8"
  }
 },
 "nbformat": 4,
 "nbformat_minor": 4
}
